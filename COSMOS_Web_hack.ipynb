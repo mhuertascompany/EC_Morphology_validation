{
 "cells": [
  {
   "cell_type": "code",
   "execution_count": 2,
   "metadata": {},
   "outputs": [],
   "source": [
    "from astropy.table import Table, join, hstack\n",
    "from astropy.coordinates import SkyCoord, match_coordinates_sky\n",
    "import astropy.units as u\n",
    "\n",
    "path_euclid = '/Users/marchuertascompany/Documents/data/EUCLID/validation'\n",
    "path_cosmos = '/Users/marchuertascompany/Documents/data/AI4PhysHack'\n",
    "\n",
    "# Load the FITS tables\n",
    "table1 = Table.read(path_cosmos + \"/COSMOS_web_galaxies/cd3_catalog.fits\")\n",
    "ascii_table = Table.read(\n",
    "    path_euclid + \"/COSMOS_ACS814_Griggith12.tsv\",\n",
    "    format='ascii',\n",
    "    data_start=76,  # Specify the line where the data starts\n",
    "    delimiter=';',\n",
    "    names=[\n",
    "        'ObjNo', 'RAJ2000', 'DEJ2000', 'f1', 'f2', 'Imaging', 'z', 'umag', 'gmag', 'rmag',\n",
    "        'imag', 'Class', 'mu1', 'mu2', 'Sf1', 'Gf1', 's/g1', 's/g2', 'mGal1', 'e_mGal1',\n",
    "        'mGal2', 'e_mGal2', 'Re.G1', 'e_Re.G1', 'Re.G2', 'e_Re.G2', 'n.G1', 'e_n.G1', 'n.G2',\n",
    "        'e_n.G2', 'b/a.G1', 'e_b/a.G1', 'b/a.G2', 'e_b/a.G2', 'pa.G1', 'e_pa.G1', 'pa.G2',\n",
    "        'e_pa.G2'\n",
    "    ]\n",
    ")\n",
    "\n",
    "\n",
    "coord_table1 = SkyCoord(ra=table1['RA'], dec=table1['Dec'], unit=(u.deg, u.deg))\n",
    "coord_ascii_table = SkyCoord(ra=ascii_table['RAJ2000'], dec=ascii_table['DEJ2000'], unit=(u.deg, u.deg))\n",
    "\n",
    "# Find the nearest on-sky matches\n",
    "idx, sep, _ = match_coordinates_sky(coord_table1, coord_ascii_table)\n",
    "\n",
    "# Select the best matching rows from the ASCII table using positional indexing\n",
    "matched_ascii_rows = ascii_table[idx]\n",
    "\n",
    "# Combine the matched rows with the result_table using hstack\n",
    "result_table = hstack([table1, matched_ascii_rows], join_type='inner')\n",
    "\n",
    "# Save the resulting table to a new FITS file\n",
    "#result_table.write(\"matched_tables_with_ascii.fits\", format=\"fits\")"
   ]
  },
  {
   "cell_type": "code",
   "execution_count": 26,
   "metadata": {},
   "outputs": [],
   "source": [
    "res_table_pandas = result_table.to_pandas()\n",
    "res_table_pandas['sep']=sep.value"
   ]
  },
  {
   "cell_type": "code",
   "execution_count": 25,
   "metadata": {},
   "outputs": [
    {
     "name": "stdout",
     "output_type": "stream",
     "text": [
      "[4.71029015e-04 2.18906689e-04 3.88990111e-04 ... 2.44329539e-05\n",
      " 5.69169158e-04 1.20686899e-03]\n"
     ]
    }
   ],
   "source": [
    "print(sep.value)"
   ]
  },
  {
   "cell_type": "code",
   "execution_count": 15,
   "metadata": {},
   "outputs": [
    {
     "data": {
      "text/plain": [
       "Index(['ID', 'RA', 'Dec', 'z_1', 'ObjNo', 'RAJ2000', 'DEJ2000', 'f1', 'f2',\n",
       "       'Imaging', 'z_2', 'umag', 'gmag', 'rmag', 'imag', 'Class', 'mu1', 'mu2',\n",
       "       'Sf1', 'Gf1', 's/g1', 's/g2', 'mGal1', 'e_mGal1', 'mGal2', 'e_mGal2',\n",
       "       'Re.G1', 'e_Re.G1', 'Re.G2', 'e_Re.G2', 'n.G1', 'e_n.G1', 'n.G2',\n",
       "       'e_n.G2', 'b/a.G1', 'e_b/a.G1', 'b/a.G2', 'e_b/a.G2', 'pa.G1',\n",
       "       'e_pa.G1', 'pa.G2', 'e_pa.G2', 'sep'],\n",
       "      dtype='object')"
      ]
     },
     "execution_count": 15,
     "metadata": {},
     "output_type": "execute_result"
    }
   ],
   "source": [
    "res_table_pandas.columns"
   ]
  },
  {
   "cell_type": "code",
   "execution_count": 16,
   "metadata": {},
   "outputs": [
    {
     "data": {
      "text/plain": [
       "<matplotlib.collections.PathCollection at 0x166409040>"
      ]
     },
     "execution_count": 16,
     "metadata": {},
     "output_type": "execute_result"
    },
    {
     "data": {
      "image/png": "[encoded data removed]",
      "text/plain": [
       "<Figure size 640x480 with 1 Axes>"
      ]
     },
     "metadata": {},
     "output_type": "display_data"
    }
   ],
   "source": [
    "import matplotlib.pyplot as plt\n",
    "plt.scatter(res_table_pandas.RA,res_table_pandas.RAJ2000)"
   ]
  },
  {
   "cell_type": "code",
   "execution_count": 27,
   "metadata": {},
   "outputs": [
    {
     "name": "stdout",
     "output_type": "stream",
     "text": [
      "[4.71029015e-04 2.18906689e-04 3.88990111e-04 5.88069581e-04\n",
      " 5.09798154e-04 9.19611141e-05 1.23799489e-04 5.93818231e-04\n",
      " 4.20650588e-04 4.97329956e-04]\n"
     ]
    }
   ],
   "source": [
    "print(res_table_pandas.sep.values[0:10])"
   ]
  },
  {
   "cell_type": "code",
   "execution_count": 28,
   "metadata": {},
   "outputs": [],
   "source": [
    "res_table_pandas.to_csv(path_cosmos+\"/COSMOS_web_galaxies/cd3_catalog_sizes.csv\")"
   ]
  }
 ],
 "metadata": {
  "kernelspec": {
   "display_name": "tfenv23",
   "language": "python",
   "name": "python3"
  },
  "language_info": {
   "codemirror_mode": {
    "name": "ipython",
    "version": 3
   },
   "file_extension": ".py",
   "mimetype": "text/x-python",
   "name": "python",
   "nbconvert_exporter": "python",
   "pygments_lexer": "ipython3",
   "version": "3.8.17"
  },
  "orig_nbformat": 4
 },
 "nbformat": 4,
 "nbformat_minor": 2
}
