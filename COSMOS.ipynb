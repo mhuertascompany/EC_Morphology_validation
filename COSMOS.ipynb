{
 "cells": [
  {
   "cell_type": "code",
   "execution_count": 2,
   "metadata": {},
   "outputs": [
    {
     "name": "stderr",
     "output_type": "stream",
     "text": [
      "WARNING: UnitsWarning: 'NA' did not parse as fits unit: At col 0, Unit 'NA' not supported by the FITS standard. Did you mean nA, nPa or na? If this is meant to be a custom unit, define it with 'u.def_unit'. To have it recognized inside a file reader or other code, enable it with 'u.add_enabled_units'. For details, see https://docs.astropy.org/en/latest/units/combining_and_defining.html [astropy.units.core]\n",
      "WARNING: MergeConflictWarning: Cannot merge meta key 'EXTNAME' types <class 'str'> and <class 'str'>, choosing EXTNAME='EUC_MER__FINAL_CATALOG' [astropy.utils.metadata]\n"
     ]
    }
   ],
   "source": [
    "from astropy.table import Table, join, hstack\n",
    "from astropy.coordinates import SkyCoord, match_coordinates_sky\n",
    "import astropy.units as u\n",
    "\n",
    "path = '/Users/marchuertascompany/Documents/data/EUCLID/validation'\n",
    "\n",
    "# Load the FITS tables\n",
    "table1 = Table.read(path + \"/CosmosDeep/single_sersic/EUC_MER_FINAL-MORPH-CAT_TILE101545697-9C3611_20231222T025655.428526Z_00.00.fits\")\n",
    "table2 = Table.read(path + \"/CosmosDeep/single_sersic/EUC_MER_FINAL-CAT_TILE101545697-B2CED4_20231222T025656.220453Z_00.00.fits\")\n",
    "ascii_table = Table.read(\n",
    "    path + \"/COSMOS_ACS814_Griggith12.tsv\",\n",
    "    format='ascii',\n",
    "    data_start=76,  # Specify the line where the data starts\n",
    "    delimiter=';',\n",
    "    names=[\n",
    "        'ObjNo', 'RAJ2000', 'DEJ2000', 'f1', 'f2', 'Imaging', 'z', 'umag', 'gmag', 'rmag',\n",
    "        'imag', 'Class', 'mu1', 'mu2', 'Sf1', 'Gf1', 's/g1', 's/g2', 'mGal1', 'e_mGal1',\n",
    "        'mGal2', 'e_mGal2', 'Re.G1', 'e_Re.G1', 'Re.G2', 'e_Re.G2', 'n.G1', 'e_n.G1', 'n.G2',\n",
    "        'e_n.G2', 'b/a.G1', 'e_b/a.G1', 'b/a.G2', 'e_b/a.G2', 'pa.G1', 'e_pa.G1', 'pa.G2',\n",
    "        'e_pa.G2'\n",
    "    ]\n",
    ")\n",
    "\n",
    "# Perform an inner join based on the OBJECT_ID column\n",
    "result_table = join(table1, table2, keys='OBJECT_ID', join_type='inner')\n",
    "\n",
    "# Create SkyCoord objects for the matching columns\n",
    "coord_table1 = SkyCoord(ra=result_table['RIGHT_ASCENSION'], dec=result_table['DECLINATION'], unit=(u.deg, u.deg))\n",
    "coord_ascii_table = SkyCoord(ra=ascii_table['RAJ2000'], dec=ascii_table['DEJ2000'], unit=(u.deg, u.deg))\n",
    "\n",
    "# Find the nearest on-sky matches\n",
    "idx, sep, _ = match_coordinates_sky(coord_table1, coord_ascii_table)\n",
    "\n",
    "# Select the best matching rows from the ASCII table using positional indexing\n",
    "matched_ascii_rows = ascii_table[idx]\n",
    "\n",
    "# Combine the matched rows with the result_table using hstack\n",
    "result_table = hstack([result_table, matched_ascii_rows], join_type='inner')\n",
    "\n",
    "# Save the resulting table to a new FITS file\n",
    "#result_table.write(\"matched_tables_with_ascii.fits\", format=\"fits\")\n"
   ]
  },
  {
   "cell_type": "code",
   "execution_count": 3,
   "metadata": {},
   "outputs": [],
   "source": [
    "res_table_pandas = result_table.to_pandas()"
   ]
  },
  {
   "cell_type": "code",
   "execution_count": 4,
   "metadata": {},
   "outputs": [
    {
     "data": {
      "text/plain": [
       "Index(['OBJECT_ID', 'CONCENTRATION', 'CONCENTRATION_ERR', 'ASYMMETRY',\n",
       "       'ASYMMETRY_ERR', 'SMOOTHNESS', 'SMOOTHNESS_ERR', 'GINI', 'GINI_ERR',\n",
       "       'MOMENT_20',\n",
       "       ...\n",
       "       'n.G2', 'e_n.G2', 'b/a.G1', 'e_b/a.G1', 'b/a.G2', 'e_b/a.G2', 'pa.G1',\n",
       "       'e_pa.G1', 'pa.G2', 'e_pa.G2'],\n",
       "      dtype='object', length=468)"
      ]
     },
     "execution_count": 4,
     "metadata": {},
     "output_type": "execute_result"
    }
   ],
   "source": [
    "res_table_pandas.columns"
   ]
  },
  {
   "cell_type": "code",
   "execution_count": null,
   "metadata": {},
   "outputs": [],
   "source": [
    "plt.scatter(res_table_pandas.mGal1,)"
   ]
  },
  {
   "cell_type": "code",
   "execution_count": 6,
   "metadata": {},
   "outputs": [
    {
     "data": {
      "text/plain": [
       "<matplotlib.collections.PathCollection at 0x16ea1ca00>"
      ]
     },
     "execution_count": 6,
     "metadata": {},
     "output_type": "execute_result"
    },
    {
     "data": {
      "image/png": "[encoded data removed]",
      "text/plain": [
       "<Figure size 640x480 with 1 Axes>"
      ]
     },
     "metadata": {},
     "output_type": "display_data"
    }
   ],
   "source": [
    "import matplotlib.pyplot as plt\n",
    "plt.scatter(res_table_pandas['Re.G1'],res_table_pandas.SERSIC_SERSIC_RADIUS)"
   ]
  }
 ],
 "metadata": {
  "kernelspec": {
   "display_name": "tfenv23",
   "language": "python",
   "name": "python3"
  },
  "language_info": {
   "codemirror_mode": {
    "name": "ipython",
    "version": 3
   },
   "file_extension": ".py",
   "mimetype": "text/x-python",
   "name": "python",
   "nbconvert_exporter": "python",
   "pygments_lexer": "ipython3",
   "version": "3.8.17"
  },
  "orig_nbformat": 4
 },
 "nbformat": 4,
 "nbformat_minor": 2
}
